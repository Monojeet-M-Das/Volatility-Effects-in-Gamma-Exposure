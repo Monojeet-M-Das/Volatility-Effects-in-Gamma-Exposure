{
 "cells": [
  {
   "cell_type": "markdown",
   "id": "09c4c287-4db7-47c4-b42f-9f53e80f7b04",
   "metadata": {},
   "source": [
    "## Install Necessary Dependencies"
   ]
  },
  {
   "cell_type": "code",
   "execution_count": null,
   "id": "9f1c7ed8-ef95-4002-b8b4-74a7d8d06490",
   "metadata": {
    "scrolled": true
   },
   "outputs": [],
   "source": [
    "!pip install yfinance numpy pandas scipy matplotlib"
   ]
  },
  {
   "cell_type": "markdown",
   "id": "7c2c1640-0b89-4f4c-a4c2-65b088d81a27",
   "metadata": {},
   "source": [
    "## Load Spot and Option Data from Yahoo Finance"
   ]
  },
  {
   "cell_type": "code",
   "execution_count": 81,
   "id": "08b66300-47a3-4b20-bba7-ba07a1d3c44e",
   "metadata": {},
   "outputs": [],
   "source": [
    "import yfinance as yf\n",
    "import pandas as pd\n",
    "import numpy as np\n",
    "from scipy.stats import norm\n",
    "import matplotlib.pyplot as plt\n",
    "from datetime import datetime, timedelta\n",
    "\n",
    "# get SPY spot price\n",
    "spy = yf.Ticker(\"SPY\")\n",
    "spot_data = spy.history(period=\"6mo\", interval=\"1d\")\n",
    "spot_data = spot_data[['Close']]\n",
    "spot_data.rename(columns={'Close': 'Spot'}, inplace=True)\n",
    "\n",
    "# example expiry for options\n",
    "expiry = spy.options[2]  \n",
    "opt_chain = spy.option_chain(expiry)\n",
    "calls = opt_chain.calls\n",
    "puts = opt_chain.puts"
   ]
  },
  {
   "cell_type": "markdown",
   "id": "4fc04ec5-d25b-4a1e-97a5-041688ae95e7",
   "metadata": {},
   "source": [
    "## Black-Scholes Gamma Function"
   ]
  },
  {
   "cell_type": "code",
   "execution_count": 82,
   "id": "ec1d1532-0b54-4fc2-bcce-56a6d5670ddf",
   "metadata": {},
   "outputs": [],
   "source": [
    "def black_scholes_gamma(S, K, T, r, sigma, option_type='call'):\n",
    "    # avoid invalid or zero values\n",
    "    if S <= 0 or K <= 0 or sigma <= 0 or T <= 0:\n",
    "        return np.nan\n",
    "    try:\n",
    "        d1 = (np.log(S / K) + (r + 0.5 * sigma**2)*T) / (sigma * np.sqrt(T))\n",
    "        gamma = norm.pdf(d1) / (S * sigma * np.sqrt(T))\n",
    "        return gamma\n",
    "    except:\n",
    "        return np.nan"
   ]
  },
  {
   "cell_type": "markdown",
   "id": "85c2e184-bda3-4ad6-8bb2-852cb76b0b28",
   "metadata": {},
   "source": [
    "## Apply Gamma Calculation to Option Chain"
   ]
  },
  {
   "cell_type": "code",
   "execution_count": 109,
   "id": "96dae887-5a07-450c-b701-b046bf0e7519",
   "metadata": {},
   "outputs": [],
   "source": [
    "\n",
    "r = 0.05  # risk-free rate assumption\n",
    "\n",
    "def calculate_gamma_for_chain(df, spot_price, r, option_type='call'):\n",
    "    today = pd.Timestamp.today().tz_localize(None)\n",
    "    T = (pd.to_datetime(expiry) - today).days / 365\n",
    "    if T <= 0:\n",
    "        raise ValueError(\"Option expiry is today or in the past.\")\n",
    "\n",
    "    df = df.copy()\n",
    "    # drop rows with missing or zero implied vol\n",
    "    df = df[(df['impliedVolatility'] > 0) & df['strike'] > 0]\n",
    "    \n",
    "    df['Gamma'] = df.apply(lambda row: black_scholes_gamma(\n",
    "        S=spot_price,\n",
    "        K=row['strike'],\n",
    "        T=T,\n",
    "        r=r,\n",
    "        sigma=row['impliedVolatility'],\n",
    "        option_type=option_type\n",
    "    ), axis=1)\n",
    "    return df"
   ]
  },
  {
   "cell_type": "markdown",
   "id": "d3266884-8ff8-437c-a354-081a4f097b04",
   "metadata": {},
   "source": [
    "##  Approximate Spot Sensitivity of Gamma"
   ]
  },
  {
   "cell_type": "code",
   "execution_count": 110,
   "id": "2b32e928-db51-4ddc-aff4-9030bd0d2616",
   "metadata": {},
   "outputs": [],
   "source": [
    "def gamma_spot_sensitivity(K, T, r, sigma, spot_price, epsilon=1.0):\n",
    "    gamma_up = black_scholes_gamma(S=spot_price + epsilon, K=K, T=T, r=r, sigma=sigma)\n",
    "    gamma_down = black_scholes_gamma(S=spot_price - epsilon, K=K, T=T, r=r, sigma=sigma)\n",
    "    return (gamma_up - gamma_down) / (2 * epsilon)"
   ]
  },
  {
   "cell_type": "markdown",
   "id": "55ed21f5-b4e0-4a6e-a5a7-31868cb2f8ae",
   "metadata": {},
   "source": [
    "## Estimate ∂Γ/∂S for each strike"
   ]
  },
  {
   "cell_type": "code",
   "execution_count": 119,
   "id": "6ddf4aa6-6761-414c-8bb7-ebf18c6dadb4",
   "metadata": {},
   "outputs": [],
   "source": [
    "def add_spot_sensitivity(df, spot_price, r):\n",
    "    today = pd.Timestamp.today().tz_localize(None)\n",
    "    T = (pd.to_datetime(expiry) - today).days / 365\n",
    "    if T <= 0:\n",
    "        raise ValueError(\"Option expiry is today or in the past.\")\n",
    "\n",
    "    df = df.copy()\n",
    "    df = df[(df['impliedVolatility'] > 0) & (df['strike'] > 0)]\n",
    "\n",
    "    df['dGamma_dS'] = df.apply(lambda row: gamma_spot_sensitivity(\n",
    "        K=row['strike'],\n",
    "        T=T,\n",
    "        r=r,\n",
    "        sigma=row['impliedVolatility'],\n",
    "        spot_price=spot_price\n",
    "    ), axis=1)\n",
    "    if df['dGamma_dS'].notna().sum() > 0:\n",
    "        df['dGamma_dS_smooth'] = df['dGamma_dS'].rolling(window=3, center=True).mean()\n",
    "    else:\n",
    "        print(\"Warning: dGamma_dS is all NaNs, skipping smoothing.\")\n",
    "    return df"
   ]
  },
  {
   "cell_type": "markdown",
   "id": "dbcafa18-f5a3-477a-ae87-be65a628c46a",
   "metadata": {},
   "source": [
    "## Plotting Spot Sensitivity of Gamma"
   ]
  },
  {
   "cell_type": "code",
   "execution_count": null,
   "id": "3208abcf-e802-4a05-9705-1bb689d4817a",
   "metadata": {},
   "outputs": [],
   "source": [
    "gamma_calls = add_spot_sensitivity(calls, spot_price=spot_data.iloc[-1]['Spot'], r=r)\n",
    "\n",
    "plt.figure(figsize=(10,6))\n",
    "plt.plot(gamma_calls['strike'], gamma_calls['dGamma_dS_smooth'], color='orange', label='Smoothed dGamma/dS')\n",
    "plt.axvline(x=spot_data.iloc[-1]['Spot'], color='red', linestyle='--', label='Spot Price')\n",
    "plt.xlabel('Strike Price')\n",
    "plt.ylabel(r'$\\partial \\Gamma / \\partial S$')\n",
    "plt.title(f'Smoothed Spot Sensitivity of Gamma for SPY Calls (Expiry: {expiry})')\n",
    "plt.legend()\n",
    "plt.grid(True)\n",
    "plt.tight_layout()\n",
    "plt.show()"
   ]
  },
  {
   "cell_type": "markdown",
   "id": "84365383-7e09-409a-bde1-1edffba6493e",
   "metadata": {},
   "source": [
    "## Add Simulated Spot Move and ΔΓ to DataFrame"
   ]
  },
  {
   "cell_type": "code",
   "execution_count": 124,
   "id": "307b0b88-5617-4570-bd26-071c8f9d4a7b",
   "metadata": {},
   "outputs": [],
   "source": [
    "# Simulate a 2-point move in spot price\n",
    "delta_S = 2.0\n",
    "gamma_calls['DeltaGamma_due_to_SpotMove'] = gamma_calls['dGamma_dS'] * delta_S\n",
    "gamma_calls['DeltaGamma_smooth'] = gamma_calls['DeltaGamma_due_to_SpotMove'].rolling(window=3, center=True).mean()"
   ]
  },
  {
   "cell_type": "markdown",
   "id": "c3458916-550b-4753-8e11-02751dab2076",
   "metadata": {},
   "source": [
    "## Plot the Predicted Gamma Change"
   ]
  },
  {
   "cell_type": "code",
   "execution_count": null,
   "id": "a31bfa7b-1333-4e95-aec1-8e0c18da27cc",
   "metadata": {},
   "outputs": [],
   "source": [
    "plt.figure(figsize=(10,6))\n",
    "plt.plot(gamma_calls['strike'], gamma_calls['DeltaGamma_due_to_SpotMove'], alpha=0.8, label=r'Raw $\\Delta \\Gamma$', color='green')\n",
    "plt.plot(gamma_calls['strike'], gamma_calls['DeltaGamma_smooth'], label=r'Smoothed $\\Delta \\Gamma$', color='blue')\n",
    "plt.axvline(x=spot_data.iloc[-1]['Spot'], color='red', linestyle='--', label='Spot Price')\n",
    "plt.xlabel('Strike Price')\n",
    "plt.ylabel(r'Estimated $\\Delta \\Gamma$')\n",
    "plt.title(f'Raw vs Smoothed $\\Delta \\Gamma$ from $\\\\Delta S$ = {delta_S} (SPY Calls)')\n",
    "plt.legend()\n",
    "plt.grid(True)\n",
    "plt.tight_layout()\n",
    "plt.show()\n"
   ]
  },
  {
   "cell_type": "markdown",
   "id": "333537bb-5a59-4a6c-bc8e-1d1eebb388e7",
   "metadata": {},
   "source": [
    "## Time-Series Tracking of Gamma and Spot"
   ]
  },
  {
   "cell_type": "markdown",
   "id": "fd3fd9d9-a0e5-47d1-bb77-b51a48047f23",
   "metadata": {},
   "source": [
    "# Define Daily Snapshot Function"
   ]
  },
  {
   "cell_type": "code",
   "execution_count": 141,
   "id": "1fe6e49c-4b92-4481-afea-c5b4a373e773",
   "metadata": {},
   "outputs": [],
   "source": [
    "def get_gamma_snapshot(expiry, target_date, r=0.05):\n",
    "    # Get spot for that historical date\n",
    "    hist = spy.history(start=target_date, end=target_date + timedelta(days=1))\n",
    "    if hist.empty:\n",
    "        return None\n",
    "    spot = hist['Close'].iloc[0]\n",
    "\n",
    "    chain = spy.option_chain(expiry)\n",
    "    calls = chain.calls.copy()\n",
    "\n",
    "    # Use nearest strike\n",
    "    atm_strike = calls.iloc[(calls['strike'] - spot).abs().argsort()[:1]]['strike'].values[0]\n",
    "    call = calls[calls['strike'] == atm_strike].copy()\n",
    "\n",
    "    T = (pd.to_datetime(expiry) - target_date).days / 365\n",
    "    sigma = call['impliedVolatility'].values[0]\n",
    "\n",
    "    gamma = black_scholes_gamma(S=spot, K=atm_strike, T=T, r=r, sigma=sigma)\n",
    "    position_size = 100 * 100\n",
    "    gamma_exposure = gamma * (spot ** 2) * position_size\n",
    "\n",
    "    return {\n",
    "        'Date': target_date,\n",
    "        'Spot': spot,\n",
    "        'Strike': atm_strike,\n",
    "        'IV': sigma,\n",
    "        'Gamma': gamma,\n",
    "        'GammaExposure': gamma_exposure\n",
    "    }"
   ]
  },
  {
   "cell_type": "markdown",
   "id": "f2af35ed-d2d4-4868-9d77-8c024fb2dd96",
   "metadata": {},
   "source": [
    "# Track Over Time (Simulated)"
   ]
  },
  {
   "cell_type": "code",
   "execution_count": 142,
   "id": "3b3a25b5-5a67-4339-9d75-f2682f3ee7e1",
   "metadata": {},
   "outputs": [],
   "source": [
    "def simulate_gamma_timeseries(expiry, days=10):\n",
    "    today = pd.Timestamp.today().normalize()\n",
    "    dates = [today - timedelta(days=i) for i in range(days)]\n",
    "    data = []\n",
    "\n",
    "    for date in reversed(dates):\n",
    "        try:\n",
    "            snapshot = get_gamma_snapshot(expiry, date)\n",
    "            if snapshot:\n",
    "                data.append(snapshot)\n",
    "        except Exception as e:\n",
    "            print(f\"Skipped {date.date()}: {e}\")\n",
    "            continue\n",
    "\n",
    "    return pd.DataFrame(data)"
   ]
  },
  {
   "cell_type": "markdown",
   "id": "ebcf186e-49bf-48cb-92e6-44cdfaa28c5f",
   "metadata": {},
   "source": [
    "# Plot Spot vs Gamma"
   ]
  },
  {
   "cell_type": "code",
   "execution_count": null,
   "id": "545195e8-7279-4205-8226-d80d2f404041",
   "metadata": {},
   "outputs": [],
   "source": [
    "df = simulate_gamma_timeseries(expiry, days=10)\n",
    "\n",
    "plt.figure(figsize=(12,5))\n",
    "plt.subplot(1,2,1)\n",
    "plt.plot(df['Date'], df['Spot'], label='Spot Price')\n",
    "plt.title('SPY Spot Price')\n",
    "plt.xticks(rotation=45)\n",
    "plt.grid(True)\n",
    "\n",
    "plt.subplot(1,2,2)\n",
    "plt.plot(df['Date'], df['Gamma'], label='ATM Gamma', color='orange')\n",
    "plt.title('ATM Option Gamma over Time')\n",
    "plt.xticks(rotation=45)\n",
    "plt.grid(True)\n",
    "plt.tight_layout()\n",
    "plt.show()"
   ]
  },
  {
   "cell_type": "markdown",
   "id": "44d0df6c-4bf1-4bba-944c-64ea92be5d66",
   "metadata": {},
   "source": [
    "# Plot Gamma Exposure Over Time"
   ]
  },
  {
   "cell_type": "code",
   "execution_count": null,
   "id": "f96e5b1a-c071-4ef8-9b18-0ee8daefa87b",
   "metadata": {},
   "outputs": [],
   "source": [
    "plt.figure(figsize=(10,5))\n",
    "plt.plot(df['Date'], df['GammaExposure'], label='Gamma Exposure ($)', color='green')\n",
    "plt.title('Gamma Exposure Over Time')\n",
    "plt.xlabel('Date')\n",
    "plt.ylabel('Gamma Exposure ($)')\n",
    "plt.grid(True)\n",
    "plt.xticks(rotation=45)\n",
    "plt.tight_layout()\n",
    "plt.show()"
   ]
  },
  {
   "cell_type": "markdown",
   "id": "44e99dfb-b6c1-42a4-9ef1-9f3d2b9486ab",
   "metadata": {},
   "source": [
    "## actual vs predicted Gamma"
   ]
  },
  {
   "cell_type": "markdown",
   "id": "93cc3076-eca9-4756-9680-b3073a11fb0c",
   "metadata": {},
   "source": [
    "# Compute ΔS and ΔΓactual"
   ]
  },
  {
   "cell_type": "code",
   "execution_count": 145,
   "id": "62e83855-6668-49d5-9f8d-cb6b9fa7b716",
   "metadata": {},
   "outputs": [],
   "source": [
    "df['Delta_S'] = df['Spot'].diff()\n",
    "df['Actual_Delta_Gamma'] = df['Gamma'].diff()"
   ]
  },
  {
   "cell_type": "markdown",
   "id": "f07de42a-b9aa-4246-b59d-4018d9f5116f",
   "metadata": {},
   "source": [
    "# Estimate ∂Γ/∂S"
   ]
  },
  {
   "cell_type": "code",
   "execution_count": 146,
   "id": "7c5729f2-1668-47a2-a601-8f2c5528da37",
   "metadata": {},
   "outputs": [],
   "source": [
    "df['dGamma_dS'] = df['Actual_Delta_Gamma'] / df['Delta_S']"
   ]
  },
  {
   "cell_type": "markdown",
   "id": "476ce156-cc8e-4021-a8a1-21a8765f6b78",
   "metadata": {},
   "source": [
    "# Compute Predicted ΔGamma"
   ]
  },
  {
   "cell_type": "code",
   "execution_count": 147,
   "id": "8019dfe0-b902-4856-a54f-e8c687610bd0",
   "metadata": {},
   "outputs": [],
   "source": [
    "df['Predicted_Delta_Gamma'] = df['dGamma_dS'].shift(1) * df['Delta_S']"
   ]
  },
  {
   "cell_type": "markdown",
   "id": "486a28e5-bc61-4c26-be11-f7a060af3791",
   "metadata": {},
   "source": [
    "# Compare Visually and Numerically"
   ]
  },
  {
   "cell_type": "code",
   "execution_count": null,
   "id": "267ee244-bf8a-44b5-9d92-f17c2ef0aef9",
   "metadata": {},
   "outputs": [],
   "source": [
    "plt.figure(figsize=(10,5))\n",
    "plt.plot(df['Date'], df['Actual_Delta_Gamma'], label='Actual ΔGamma', marker='o')\n",
    "plt.plot(df['Date'], df['Predicted_Delta_Gamma'], label='Predicted ΔGamma', marker='x')\n",
    "plt.axhline(0, color='black', linestyle='--', linewidth=0.7)\n",
    "plt.legend()\n",
    "plt.title('Actual vs Predicted ΔGamma')\n",
    "plt.xticks(rotation=45)\n",
    "plt.grid(True)\n",
    "plt.tight_layout()\n",
    "plt.show()"
   ]
  }
 ],
 "metadata": {
  "kernelspec": {
   "display_name": "Python 3 (ipykernel)",
   "language": "python",
   "name": "python3"
  },
  "language_info": {
   "codemirror_mode": {
    "name": "ipython",
    "version": 3
   },
   "file_extension": ".py",
   "mimetype": "text/x-python",
   "name": "python",
   "nbconvert_exporter": "python",
   "pygments_lexer": "ipython3",
   "version": "3.12.7"
  }
 },
 "nbformat": 4,
 "nbformat_minor": 5
}
